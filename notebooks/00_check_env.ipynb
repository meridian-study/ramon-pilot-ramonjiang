{
  "cells": [
    {
      "cell_type": "code",
      "execution_count": null,
      "metadata": {},
      "outputs": [],
      "source": [
        "import sys, pandas as pd\n",
        "print(\"Kernel OK\")\n",
        "print(\"Python:\", sys.version)\n",
        "print(\"pandas:\", pd.__version__)\n"
      ]
    }
  ],
  "metadata": {
    "kernelspec": {
      "display_name": "Python (study)",
      "language": "python",
      "name": "study"
    },
    "language_info": {
      "name": "python"
    }
  },
  "nbformat": 4,
  "nbformat_minor": 5
}